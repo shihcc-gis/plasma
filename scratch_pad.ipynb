{
 "cells": [
  {
   "cell_type": "code",
   "execution_count": 13,
   "id": "57b4ecbc",
   "metadata": {},
   "outputs": [],
   "source": [
    "import matplotlib.pyplot as plt\n",
    "import numpy as np\n",
    "import pandas\n"
   ]
  },
  {
   "cell_type": "code",
   "execution_count": 3,
   "id": "ea33dc44",
   "metadata": {
    "scrolled": true
   },
   "outputs": [
    {
     "data": {
      "application/vnd.jupyter.widget-view+json": {
       "model_id": "05a89bbf55a045d8bb12001f7deb5747",
       "version_major": 2,
       "version_minor": 0
      },
      "text/plain": [
       "FloatText(value=-1.0, description='Taper Start (default no taper):')"
      ]
     },
     "metadata": {},
     "output_type": "display_data"
    },
    {
     "data": {
      "application/vnd.jupyter.widget-view+json": {
       "model_id": "b8163803e7864b1ca88fb3878da061c8",
       "version_major": 2,
       "version_minor": 0
      },
      "text/plain": [
       "FloatText(value=-1.0, description='Taper End (default no taper):')"
      ]
     },
     "metadata": {},
     "output_type": "display_data"
    },
    {
     "data": {
      "application/vnd.jupyter.widget-view+json": {
       "model_id": "7861a98e59a64b7b965de22902f5d723",
       "version_major": 2,
       "version_minor": 0
      },
      "text/plain": [
       "Dropdown(description='Device:', options=('UNUICTPPFF', 'NX2-RGNeon'), value='UNUICTPPFF')"
      ]
     },
     "metadata": {},
     "output_type": "display_data"
    },
    {
     "data": {
      "application/vnd.jupyter.widget-view+json": {
       "model_id": "196e5f47adad4908811582e9074de13b",
       "version_major": 2,
       "version_minor": 0
      },
      "text/plain": [
       "Button(description='Submit', style=ButtonStyle())"
      ]
     },
     "metadata": {},
     "output_type": "display_data"
    },
    {
     "name": "stdout",
     "output_type": "stream",
     "text": [
      "slow compression phase stopped either on preset time or on RP limit\n",
      "End of phase 4\n",
      "NX2-RGNeon not supported yet\n"
     ]
    }
   ],
   "source": [
    "%run Lee_Code_Python.ipynb\n"
   ]
  },
  {
   "cell_type": "code",
   "execution_count": 17,
   "id": "097375e5",
   "metadata": {},
   "outputs": [
    {
     "name": "stdout",
     "output_type": "stream",
     "text": [
      "{'TR': 0, 'IR': 1, 'VR': 2, 'ZR': 3, 'ZZR': 4, 'plasma_I': 5, 'plasma_L': 6, 'inductive_energy': 7, '0.5Ldot_work': 8, 'Ni': 9, 'T': 10, 'nimax': 11, 'piston_work': 12}\n"
     ]
    },
    {
     "data": {
      "text/plain": [
       "[<matplotlib.lines.Line2D at 0x7f1692241a60>]"
      ]
     },
     "execution_count": 17,
     "metadata": {},
     "output_type": "execute_result"
    },
    {
     "data": {
      "image/png": "[encoded data removed]",
      "text/plain": [
       "<Figure size 432x288 with 1 Axes>"
      ]
     },
     "metadata": {
      "needs_background": "light"
     },
     "output_type": "display_data"
    }
   ],
   "source": [
    "print(axialmap)\n",
    "timestep = list(range(len(axialphase)))\n",
    "plasma_I = []\n",
    "for step in axialphase:\n",
    "    plasma_I.append(step[5])\n",
    "\n",
    "fig,ax = plt.subplots()\n",
    "ax.plot(timestep,plasma_I)\n",
    "\n"
   ]
  },
  {
   "cell_type": "code",
   "execution_count": 19,
   "id": "6747a7d4",
   "metadata": {},
   "outputs": [
    {
     "data": {
      "text/html": [
       "<div>\n",
       "<style scoped>\n",
       "    .dataframe tbody tr th:only-of-type {\n",
       "        vertical-align: middle;\n",
       "    }\n",
       "\n",
       "    .dataframe tbody tr th {\n",
       "        vertical-align: top;\n",
       "    }\n",
       "\n",
       "    .dataframe thead th {\n",
       "        text-align: right;\n",
       "    }\n",
       "</style>\n",
       "<table border=\"1\" class=\"dataframe\">\n",
       "  <thead>\n",
       "    <tr style=\"text-align: right;\">\n",
       "      <th></th>\n",
       "      <th>TR</th>\n",
       "      <th>IR</th>\n",
       "      <th>VR</th>\n",
       "      <th>ZR</th>\n",
       "      <th>ZZR</th>\n",
       "      <th>plasma_I</th>\n",
       "      <th>plasma_L</th>\n",
       "      <th>inductive_energy</th>\n",
       "      <th>0.5Ldot_work</th>\n",
       "      <th>Ni</th>\n",
       "      <th>T</th>\n",
       "      <th>nimax</th>\n",
       "      <th>piston_work</th>\n",
       "    </tr>\n",
       "  </thead>\n",
       "  <tbody>\n",
       "    <tr>\n",
       "      <th>0</th>\n",
       "      <td>0.003633</td>\n",
       "      <td>0.495434</td>\n",
       "      <td>0.000000</td>\n",
       "      <td>0.000071</td>\n",
       "      <td>0.019535</td>\n",
       "      <td>0.346804</td>\n",
       "      <td>1.723896e-22</td>\n",
       "      <td>0.000400</td>\n",
       "      <td>3.071669e-10</td>\n",
       "      <td>0.792839</td>\n",
       "      <td>0.0</td>\n",
       "      <td>9.910489</td>\n",
       "      <td>3.071669e-10</td>\n",
       "    </tr>\n",
       "    <tr>\n",
       "      <th>1</th>\n",
       "      <td>0.007266</td>\n",
       "      <td>0.990668</td>\n",
       "      <td>0.000033</td>\n",
       "      <td>0.000213</td>\n",
       "      <td>0.039070</td>\n",
       "      <td>0.693468</td>\n",
       "      <td>5.171687e-22</td>\n",
       "      <td>0.001599</td>\n",
       "      <td>2.763513e-09</td>\n",
       "      <td>0.792839</td>\n",
       "      <td>0.0</td>\n",
       "      <td>9.910489</td>\n",
       "      <td>2.763513e-09</td>\n",
       "    </tr>\n",
       "    <tr>\n",
       "      <th>2</th>\n",
       "      <td>0.010900</td>\n",
       "      <td>1.485699</td>\n",
       "      <td>0.000115</td>\n",
       "      <td>0.000449</td>\n",
       "      <td>0.065096</td>\n",
       "      <td>1.039989</td>\n",
       "      <td>1.091616e-21</td>\n",
       "      <td>0.003597</td>\n",
       "      <td>1.196809e-08</td>\n",
       "      <td>0.792839</td>\n",
       "      <td>0.0</td>\n",
       "      <td>9.910489</td>\n",
       "      <td>1.196809e-08</td>\n",
       "    </tr>\n",
       "    <tr>\n",
       "      <th>3</th>\n",
       "      <td>0.014533</td>\n",
       "      <td>1.980523</td>\n",
       "      <td>0.000269</td>\n",
       "      <td>0.000763</td>\n",
       "      <td>0.086326</td>\n",
       "      <td>1.386366</td>\n",
       "      <td>1.853404e-21</td>\n",
       "      <td>0.006392</td>\n",
       "      <td>3.365944e-08</td>\n",
       "      <td>0.792839</td>\n",
       "      <td>0.0</td>\n",
       "      <td>9.910489</td>\n",
       "      <td>3.365944e-08</td>\n",
       "    </tr>\n",
       "    <tr>\n",
       "      <th>4</th>\n",
       "      <td>0.018166</td>\n",
       "      <td>2.475137</td>\n",
       "      <td>0.000467</td>\n",
       "      <td>0.001159</td>\n",
       "      <td>0.108917</td>\n",
       "      <td>1.732596</td>\n",
       "      <td>2.814554e-21</td>\n",
       "      <td>0.009984</td>\n",
       "      <td>7.640410e-08</td>\n",
       "      <td>0.792839</td>\n",
       "      <td>0.0</td>\n",
       "      <td>9.910489</td>\n",
       "      <td>7.640410e-08</td>\n",
       "    </tr>\n",
       "    <tr>\n",
       "      <th>...</th>\n",
       "      <td>...</td>\n",
       "      <td>...</td>\n",
       "      <td>...</td>\n",
       "      <td>...</td>\n",
       "      <td>...</td>\n",
       "      <td>...</td>\n",
       "      <td>...</td>\n",
       "      <td>...</td>\n",
       "      <td>...</td>\n",
       "      <td>...</td>\n",
       "      <td>...</td>\n",
       "      <td>...</td>\n",
       "      <td>...</td>\n",
       "    </tr>\n",
       "    <tr>\n",
       "      <th>364</th>\n",
       "      <td>1.326111</td>\n",
       "      <td>143.693379</td>\n",
       "      <td>2.230737</td>\n",
       "      <td>4.920277</td>\n",
       "      <td>6.812663</td>\n",
       "      <td>100.585366</td>\n",
       "      <td>1.195080e-17</td>\n",
       "      <td>35.439524</td>\n",
       "      <td>1.001637e+00</td>\n",
       "      <td>0.792839</td>\n",
       "      <td>0.0</td>\n",
       "      <td>9.910489</td>\n",
       "      <td>1.001637e+00</td>\n",
       "    </tr>\n",
       "    <tr>\n",
       "      <th>365</th>\n",
       "      <td>1.329744</td>\n",
       "      <td>143.941440</td>\n",
       "      <td>2.237651</td>\n",
       "      <td>4.945077</td>\n",
       "      <td>6.825800</td>\n",
       "      <td>100.759008</td>\n",
       "      <td>1.201104e-17</td>\n",
       "      <td>35.571049</td>\n",
       "      <td>1.010697e+00</td>\n",
       "      <td>0.792839</td>\n",
       "      <td>0.0</td>\n",
       "      <td>9.910489</td>\n",
       "      <td>1.010697e+00</td>\n",
       "    </tr>\n",
       "    <tr>\n",
       "      <th>366</th>\n",
       "      <td>1.333377</td>\n",
       "      <td>144.188598</td>\n",
       "      <td>2.244543</td>\n",
       "      <td>4.969924</td>\n",
       "      <td>6.838904</td>\n",
       "      <td>100.932019</td>\n",
       "      <td>1.207139e-17</td>\n",
       "      <td>35.702418</td>\n",
       "      <td>1.019805e+00</td>\n",
       "      <td>0.792839</td>\n",
       "      <td>0.0</td>\n",
       "      <td>9.910489</td>\n",
       "      <td>1.019805e+00</td>\n",
       "    </tr>\n",
       "    <tr>\n",
       "      <th>367</th>\n",
       "      <td>1.337010</td>\n",
       "      <td>144.434856</td>\n",
       "      <td>2.251412</td>\n",
       "      <td>4.994818</td>\n",
       "      <td>6.851973</td>\n",
       "      <td>101.104399</td>\n",
       "      <td>1.213186e-17</td>\n",
       "      <td>35.833631</td>\n",
       "      <td>1.028962e+00</td>\n",
       "      <td>0.792839</td>\n",
       "      <td>0.0</td>\n",
       "      <td>9.910489</td>\n",
       "      <td>1.028962e+00</td>\n",
       "    </tr>\n",
       "    <tr>\n",
       "      <th>368</th>\n",
       "      <td>1.340644</td>\n",
       "      <td>144.680213</td>\n",
       "      <td>2.258257</td>\n",
       "      <td>5.019760</td>\n",
       "      <td>6.865007</td>\n",
       "      <td>101.276149</td>\n",
       "      <td>1.219244e-17</td>\n",
       "      <td>35.964683</td>\n",
       "      <td>1.038167e+00</td>\n",
       "      <td>0.792839</td>\n",
       "      <td>0.0</td>\n",
       "      <td>9.910489</td>\n",
       "      <td>1.038167e+00</td>\n",
       "    </tr>\n",
       "  </tbody>\n",
       "</table>\n",
       "<p>369 rows × 13 columns</p>\n",
       "</div>"
      ],
      "text/plain": [
       "           TR          IR        VR        ZR       ZZR    plasma_I  \\\n",
       "0    0.003633    0.495434  0.000000  0.000071  0.019535    0.346804   \n",
       "1    0.007266    0.990668  0.000033  0.000213  0.039070    0.693468   \n",
       "2    0.010900    1.485699  0.000115  0.000449  0.065096    1.039989   \n",
       "3    0.014533    1.980523  0.000269  0.000763  0.086326    1.386366   \n",
       "4    0.018166    2.475137  0.000467  0.001159  0.108917    1.732596   \n",
       "..        ...         ...       ...       ...       ...         ...   \n",
       "364  1.326111  143.693379  2.230737  4.920277  6.812663  100.585366   \n",
       "365  1.329744  143.941440  2.237651  4.945077  6.825800  100.759008   \n",
       "366  1.333377  144.188598  2.244543  4.969924  6.838904  100.932019   \n",
       "367  1.337010  144.434856  2.251412  4.994818  6.851973  101.104399   \n",
       "368  1.340644  144.680213  2.258257  5.019760  6.865007  101.276149   \n",
       "\n",
       "         plasma_L  inductive_energy  0.5Ldot_work        Ni    T     nimax  \\\n",
       "0    1.723896e-22          0.000400  3.071669e-10  0.792839  0.0  9.910489   \n",
       "1    5.171687e-22          0.001599  2.763513e-09  0.792839  0.0  9.910489   \n",
       "2    1.091616e-21          0.003597  1.196809e-08  0.792839  0.0  9.910489   \n",
       "3    1.853404e-21          0.006392  3.365944e-08  0.792839  0.0  9.910489   \n",
       "4    2.814554e-21          0.009984  7.640410e-08  0.792839  0.0  9.910489   \n",
       "..            ...               ...           ...       ...  ...       ...   \n",
       "364  1.195080e-17         35.439524  1.001637e+00  0.792839  0.0  9.910489   \n",
       "365  1.201104e-17         35.571049  1.010697e+00  0.792839  0.0  9.910489   \n",
       "366  1.207139e-17         35.702418  1.019805e+00  0.792839  0.0  9.910489   \n",
       "367  1.213186e-17         35.833631  1.028962e+00  0.792839  0.0  9.910489   \n",
       "368  1.219244e-17         35.964683  1.038167e+00  0.792839  0.0  9.910489   \n",
       "\n",
       "      piston_work  \n",
       "0    3.071669e-10  \n",
       "1    2.763513e-09  \n",
       "2    1.196809e-08  \n",
       "3    3.365944e-08  \n",
       "4    7.640410e-08  \n",
       "..            ...  \n",
       "364  1.001637e+00  \n",
       "365  1.010697e+00  \n",
       "366  1.019805e+00  \n",
       "367  1.028962e+00  \n",
       "368  1.038167e+00  \n",
       "\n",
       "[369 rows x 13 columns]"
      ]
     },
     "execution_count": 19,
     "metadata": {},
     "output_type": "execute_result"
    }
   ],
   "source": [
    "pandas.DataFrame(axialphase,columns=axialmap)"
   ]
  }
 ],
 "metadata": {
  "kernelspec": {
   "display_name": "Python 3",
   "language": "python",
   "name": "python3"
  },
  "language_info": {
   "codemirror_mode": {
    "name": "ipython",
    "version": 3
   },
   "file_extension": ".py",
   "mimetype": "text/x-python",
   "name": "python",
   "nbconvert_exporter": "python",
   "pygments_lexer": "ipython3",
   "version": "3.9.4"
  }
 },
 "nbformat": 4,
 "nbformat_minor": 5
}
